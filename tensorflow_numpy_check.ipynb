{
 "cells": [
  {
   "cell_type": "code",
   "execution_count": 1,
   "metadata": {},
   "outputs": [],
   "source": [
    "import numpy as np\n",
    "import qutip as qt\n",
    "import math\n",
    "from scipy.integrate import simps\n",
    "from scipy.special import hermite\n",
    "from scipy.interpolate import interp1d\n",
    "import tensorflow as tf"
   ]
  },
  {
   "cell_type": "code",
   "execution_count": 2,
   "metadata": {},
   "outputs": [],
   "source": [
    "d = 4\n",
    "big_d = 40"
   ]
  },
  {
   "cell_type": "code",
   "execution_count": 3,
   "metadata": {},
   "outputs": [],
   "source": [
    "init_state = qt.rand_dm_ginibre(d)  # initial state is d-dimensional\n",
    "full_array = np.zeros((big_d, big_d), dtype=np.complex128)\n",
    "full_array[:d, :d] = init_state.full()  # this transforms the initial d-dimensional state into D-dim\n",
    "full_state = qt.Qobj(full_array)"
   ]
  },
  {
   "cell_type": "code",
   "execution_count": 4,
   "metadata": {},
   "outputs": [],
   "source": [
    "traj_length = 20  # how many \"snapshots\" in time we take\n",
    "nof_samples_distr = 1000  # how many points to sample from distribution\n",
    "tlist = np.linspace(0, 2 * np.pi, traj_length)  # we're taking traj_length points from one period of motion - 2 pi\n",
    "xmax = 5\n",
    "x_list = np.linspace(-xmax, xmax, 200)  # setting up the x space for P(x) and for wigner\n",
    "\n",
    "alpha = 5  # inverse quarticity\n",
    "gamma = 0  # decoherence rate\n",
    "\n",
    "# QUANTUM DEFINITIONS\n",
    "a = qt.destroy(big_d)  # annihilation operator\n",
    "x = a.dag() + a\n",
    "p = 1j * (a.dag() - a)\n",
    "H_quartic = p * p / 4 + (x / alpha) * (x / alpha) * (x / alpha) * (x / alpha)\n",
    "H_harmonic = a.dag() * a\n",
    "# # A list of collapse operators - later\n",
    "c_ops = [np.sqrt(gamma) * x]  # decoherence"
   ]
  },
  {
   "cell_type": "code",
   "execution_count": 5,
   "metadata": {},
   "outputs": [],
   "source": [
    "result = qt.mesolve(H_harmonic, full_state, tlist, c_ops=c_ops)"
   ]
  },
  {
   "cell_type": "code",
   "execution_count": 6,
   "metadata": {},
   "outputs": [],
   "source": [
    "def Psi_Psi_product(xlist, dim):\n",
    "    \"\"\"\n",
    "    This function calculates the product of the wave functions psi_m and psi_n for a given list of x.\n",
    "\n",
    "    Parameters:\n",
    "    xlist (ndarray): List of x values\n",
    "    dim (int): Dimension of the product matrix\n",
    "\n",
    "    Returns:\n",
    "    product_matrix (ndarray): Matrix with [m,n] element as product psi_m * psi_n\"\"\"\n",
    "    product_list = []\n",
    "\n",
    "    exp_list = np.exp(-xlist ** 2 / 2.0)\n",
    "    norm_list = [np.pi ** (-0.25) / math.sqrt(2.0 ** m * math.factorial(m)) for m in range(dim)]\n",
    "    herm_list = [np.polyval(hermite(m), xlist) for m in range(dim)]\n",
    "\n",
    "    for m in range(dim):\n",
    "        psi_m = exp_list * norm_list[m] * herm_list[m]  # wave function psi_m of a harmonic oscillator\n",
    "        for ni in range(dim):\n",
    "            psi_n = exp_list * norm_list[ni] * herm_list[ni]  # wave function psi_n of a harmonic oscillator\n",
    "            product_list.append(psi_m * psi_n)  # in general should be np.conjugate(psi_n)\n",
    "\n",
    "    product_matrix = np.reshape(product_list,\n",
    "                                (dim, dim, -1))  # reshape into matrix, such that [m,n] element is product psi_m*psi_n\n",
    "    return product_matrix\n",
    "\n",
    "\n",
    "psi_products = Psi_Psi_product(x_list, big_d)"
   ]
  },
  {
   "cell_type": "code",
   "execution_count": 7,
   "metadata": {},
   "outputs": [],
   "source": [
    "def draw_from_prob(xlist, prob_list, m):\n",
    "    \"\"\"\n",
    "        Draw `m` samples from a probability distribution defined by `xlist` and `prob_list`.\n",
    "\n",
    "        Parameters\n",
    "        ----------\n",
    "        xlist : ndarray\n",
    "            A 1D array of x values.\n",
    "        prob_list : ndarray\n",
    "            A 1D array of probability values corresponding to the `xlist`.\n",
    "        m : int\n",
    "            The number of samples to draw.\n",
    "\n",
    "        Returns\n",
    "        -------\n",
    "        draw_samples : ndarray\n",
    "            A 1D array of `m` samples drawn from the probability distribution.\n",
    "        \"\"\"\n",
    "\n",
    "    norm_constant = simps(prob_list, xlist)  # normalization\n",
    "    my_pdfs = prob_list / norm_constant  # generate PDF\n",
    "    my_cdf = np.cumsum(my_pdfs)  # generate CDF\n",
    "    my_cdf = my_cdf / my_cdf[-1]\n",
    "    func_ppf = interp1d(my_cdf, xlist, fill_value='extrapolate')  # generate the inverse CDF\n",
    "    draw_samples = func_ppf(np.random.uniform(size=m))  # generate M samples\n",
    "\n",
    "    return draw_samples"
   ]
  },
  {
   "cell_type": "code",
   "execution_count": 8,
   "metadata": {},
   "outputs": [],
   "source": [
    "rho_matrix = result.states[10].full()  # we're taking each state in snapshots of time\n",
    "\n",
    "before_sum = rho_matrix[:, :, np.newaxis] * psi_products\n",
    "first_sum = np.sum(before_sum.real, axis=0)\n",
    "prob_list = np.sum(first_sum, axis=0)  # P(x) = sum ( rho * psi_products ) by definition\n",
    "sample = draw_from_prob(x_list, prob_list, nof_samples_distr)  # drawing points from P(x)"
   ]
  },
  {
   "cell_type": "code",
   "execution_count": 9,
   "metadata": {},
   "outputs": [
    {
     "name": "stdout",
     "output_type": "stream",
     "text": [
      "Metal device set to: Apple M1\n",
      "\n",
      "systemMemory: 8.00 GB\n",
      "maxCacheSize: 2.67 GB\n",
      "\n"
     ]
    },
    {
     "name": "stderr",
     "output_type": "stream",
     "text": [
      "2023-03-26 12:01:04.114724: I tensorflow/core/common_runtime/pluggable_device/pluggable_device_factory.cc:305] Could not identify NUMA node of platform GPU ID 0, defaulting to 0. Your kernel may not have been built with NUMA support.\n",
      "2023-03-26 12:01:04.115239: I tensorflow/core/common_runtime/pluggable_device/pluggable_device_factory.cc:271] Created TensorFlow device (/job:localhost/replica:0/task:0/device:GPU:0 with 0 MB memory) -> physical PluggableDevice (device: 0, name: METAL, pci bus id: <undefined>)\n"
     ]
    }
   ],
   "source": [
    "before_sum1 = tf.math.multiply(rho_matrix[:, :, tf.newaxis], psi_products)\n",
    "first_sum1 = tf.math.reduce_sum(tf.math.real(before_sum1), axis=0)\n",
    "prob_list1 = tf.math.reduce_sum(first_sum1, axis=0)  # P(x) = sum ( rho * psi_products ) by definition\n",
    "sample1 = draw_from_prob(x_list, prob_list1, nof_samples_distr)  # drawing points from P(x)"
   ]
  },
  {
   "cell_type": "code",
   "execution_count": 10,
   "metadata": {},
   "outputs": [],
   "source": [
    "norm_constant = simps(prob_list, x_list)  # normalization\n",
    "my_pdfs = prob_list / norm_constant  # generate PDF\n",
    "my_cdf = np.cumsum(my_pdfs)  # generate CDF\n",
    "my_cdf = my_cdf / my_cdf[-1]\n",
    "func_ppf = interp1d(my_cdf, x_list, fill_value='extrapolate')  # generate the inverse CDF\n",
    "draw_samples = func_ppf(np.random.uniform(size=10000))  # generate M samples\n",
    "\n",
    "norm_constant1 = simps(prob_list1, x_list)  # normalization\n",
    "my_pdfs1 = prob_list1 / norm_constant1  # generate PDF\n",
    "my_cdf1 = np.cumsum(my_pdfs1)  # generate CDF\n",
    "my_cdf1 = my_cdf1 / my_cdf1[-1]\n",
    "func_ppf1 = interp1d(my_cdf1, x_list, fill_value='extrapolate')  # generate the inverse CDF\n",
    "draw_samples1 = func_ppf1(np.random.uniform(size=10000))  # generate M samples"
   ]
  },
  {
   "cell_type": "code",
   "execution_count": 11,
   "metadata": {},
   "outputs": [
    {
     "data": {
      "text/plain": [
       "(array([  3.,   0.,   0.,   1.,   3.,   6.,   8.,  13.,  14.,  16.,  33.,\n",
       "         26.,  34.,  44.,  43.,  66.,  96.,  90., 110., 120., 133., 162.,\n",
       "        155., 175., 153., 170., 174., 155., 147., 154., 136., 125., 119.,\n",
       "        112., 107.,  88.,  73.,  97.,  80.,  75.,  87.,  67.,  82.,  93.,\n",
       "         81., 112., 117., 119., 148., 167., 170., 197., 188., 204., 223.,\n",
       "        181., 184., 168., 149., 146., 133., 100.,  97., 101., 118., 104.,\n",
       "        110., 128., 147., 166., 177., 192., 218., 218., 231., 215., 170.,\n",
       "        187., 148., 134., 127., 127.,  89.,  70.,  78.,  60.,  52.,  21.,\n",
       "         27.,  11.,  12.,   7.,   6.,   7.,   6.,   1.,   1.,   0.,   3.,\n",
       "          2.]),\n",
       " array([-3.65926137, -3.58525481, -3.51124826, -3.43724171, -3.36323516,\n",
       "        -3.28922861, -3.21522206, -3.14121551, -3.06720895, -2.9932024 ,\n",
       "        -2.91919585, -2.8451893 , -2.77118275, -2.6971762 , -2.62316965,\n",
       "        -2.5491631 , -2.47515654, -2.40114999, -2.32714344, -2.25313689,\n",
       "        -2.17913034, -2.10512379, -2.03111724, -1.95711068, -1.88310413,\n",
       "        -1.80909758, -1.73509103, -1.66108448, -1.58707793, -1.51307138,\n",
       "        -1.43906482, -1.36505827, -1.29105172, -1.21704517, -1.14303862,\n",
       "        -1.06903207, -0.99502552, -0.92101896, -0.84701241, -0.77300586,\n",
       "        -0.69899931, -0.62499276, -0.55098621, -0.47697966, -0.4029731 ,\n",
       "        -0.32896655, -0.25496   , -0.18095345, -0.1069469 , -0.03294035,\n",
       "         0.0410662 ,  0.11507275,  0.18907931,  0.26308586,  0.33709241,\n",
       "         0.41109896,  0.48510551,  0.55911206,  0.63311861,  0.70712517,\n",
       "         0.78113172,  0.85513827,  0.92914482,  1.00315137,  1.07715792,\n",
       "         1.15116447,  1.22517103,  1.29917758,  1.37318413,  1.44719068,\n",
       "         1.52119723,  1.59520378,  1.66921033,  1.74321689,  1.81722344,\n",
       "         1.89122999,  1.96523654,  2.03924309,  2.11324964,  2.18725619,\n",
       "         2.26126274,  2.3352693 ,  2.40927585,  2.4832824 ,  2.55728895,\n",
       "         2.6312955 ,  2.70530205,  2.7793086 ,  2.85331516,  2.92732171,\n",
       "         3.00132826,  3.07533481,  3.14934136,  3.22334791,  3.29735446,\n",
       "         3.37136102,  3.44536757,  3.51937412,  3.59338067,  3.66738722,\n",
       "         3.74139377]),\n",
       " <BarContainer object of 100 artists>)"
      ]
     },
     "execution_count": 11,
     "metadata": {},
     "output_type": "execute_result"
    },
    {
     "data": {
      "image/png": "[encoded data removed]",
      "text/plain": [
       "<Figure size 640x480 with 1 Axes>"
      ]
     },
     "metadata": {},
     "output_type": "display_data"
    }
   ],
   "source": [
    "import matplotlib.pyplot as plt\n",
    "plt.hist(draw_samples, bins=100)"
   ]
  },
  {
   "cell_type": "code",
   "execution_count": 12,
   "metadata": {},
   "outputs": [
    {
     "data": {
      "text/plain": [
       "(array([  1.,   0.,   0.,   3.,   3.,   3.,   5.,  12.,  11.,  16.,  16.,\n",
       "         19.,  22.,  42.,  51.,  55.,  77.,  78., 106., 123., 148., 124.,\n",
       "        161., 177., 161., 174., 158., 186., 168., 166., 154., 126., 124.,\n",
       "        120., 106., 106.,  84.,  76.,  88.,  82.,  69.,  84.,  85.,  85.,\n",
       "        111., 112., 141., 174., 177., 186., 206., 202., 239., 203., 177.,\n",
       "        187., 162., 164., 120., 120., 111., 107., 103., 105., 139., 141.,\n",
       "        176., 181., 204., 232., 220., 244., 228., 237., 177., 199., 162.,\n",
       "        152., 108., 101.,  67.,  51.,  52.,  47.,  40.,  23.,  14.,  12.,\n",
       "         11.,   5.,   5.,   3.,   2.,   3.,   1.,   0.,   0.,   0.,   0.,\n",
       "          1.]),\n",
       " array([-3.78248416, -3.70385048, -3.6252168 , -3.54658311, -3.46794943,\n",
       "        -3.38931575, -3.31068206, -3.23204838, -3.1534147 , -3.07478102,\n",
       "        -2.99614733, -2.91751365, -2.83887997, -2.76024628, -2.6816126 ,\n",
       "        -2.60297892, -2.52434523, -2.44571155, -2.36707787, -2.28844418,\n",
       "        -2.2098105 , -2.13117682, -2.05254313, -1.97390945, -1.89527577,\n",
       "        -1.81664208, -1.7380084 , -1.65937472, -1.58074103, -1.50210735,\n",
       "        -1.42347367, -1.34483998, -1.2662063 , -1.18757262, -1.10893893,\n",
       "        -1.03030525, -0.95167157, -0.87303788, -0.7944042 , -0.71577052,\n",
       "        -0.63713683, -0.55850315, -0.47986947, -0.40123578, -0.3226021 ,\n",
       "        -0.24396842, -0.16533474, -0.08670105, -0.00806737,  0.07056631,\n",
       "         0.1492    ,  0.22783368,  0.30646736,  0.38510105,  0.46373473,\n",
       "         0.54236841,  0.6210021 ,  0.69963578,  0.77826946,  0.85690315,\n",
       "         0.93553683,  1.01417051,  1.0928042 ,  1.17143788,  1.25007156,\n",
       "         1.32870525,  1.40733893,  1.48597261,  1.5646063 ,  1.64323998,\n",
       "         1.72187366,  1.80050735,  1.87914103,  1.95777471,  2.0364084 ,\n",
       "         2.11504208,  2.19367576,  2.27230945,  2.35094313,  2.42957681,\n",
       "         2.5082105 ,  2.58684418,  2.66547786,  2.74411154,  2.82274523,\n",
       "         2.90137891,  2.98001259,  3.05864628,  3.13727996,  3.21591364,\n",
       "         3.29454733,  3.37318101,  3.45181469,  3.53044838,  3.60908206,\n",
       "         3.68771574,  3.76634943,  3.84498311,  3.92361679,  4.00225048,\n",
       "         4.08088416]),\n",
       " <BarContainer object of 100 artists>)"
      ]
     },
     "execution_count": 12,
     "metadata": {},
     "output_type": "execute_result"
    },
    {
     "data": {
      "image/png": "[encoded data removed]",
      "text/plain": [
       "<Figure size 640x480 with 1 Axes>"
      ]
     },
     "metadata": {},
     "output_type": "display_data"
    }
   ],
   "source": [
    "plt.hist(draw_samples1, bins=100)"
   ]
  }
 ],
 "metadata": {
  "kernelspec": {
   "display_name": "Python 3.10.9 ('licencjat')",
   "language": "python",
   "name": "python3"
  },
  "language_info": {
   "codemirror_mode": {
    "name": "ipython",
    "version": 3
   },
   "file_extension": ".py",
   "mimetype": "text/x-python",
   "name": "python",
   "nbconvert_exporter": "python",
   "pygments_lexer": "ipython3",
   "version": "3.10.9"
  },
  "orig_nbformat": 4,
  "vscode": {
   "interpreter": {
    "hash": "1a09f34fd78ee26f2d768faaac4cab2723b396d6d6944281ea7013083524ca8c"
   }
  }
 },
 "nbformat": 4,
 "nbformat_minor": 2
}
